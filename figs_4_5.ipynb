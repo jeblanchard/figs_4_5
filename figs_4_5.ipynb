{
 "cells": [
  {
   "cell_type": "code",
   "execution_count": 2,
   "metadata": {},
   "outputs": [],
   "source": [
    "import numpy as np\n",
    "import pandas as pd\n",
    "import matplotlib.pyplot as plt\n",
    "import sklearn.linear_model as model\n",
    "import regex as re\n",
    "from sklearn.model_selection import train_test_split\n",
    "from sklearn.decomposition import PCA\n",
    "from sklearn.preprocessing import StandardScaler\n",
    "from scipy import stats\n",
    "from datetime import date\n",
    "import geo_tools as gt"
   ]
  },
  {
   "cell_type": "code",
   "execution_count": 3,
   "metadata": {},
   "outputs": [],
   "source": [
    "def process_data(GSE_list, info= \"age\"):\n",
    "    \n",
    "    \"\"\"Takes in a list of GSEs, returns a corresponding X_df and y.\"\"\"\n",
    "    \n",
    "    # making X\n",
    "    GSE_df_dict = {}\n",
    "    GSE_df_list = []\n",
    "\n",
    "    for GSE in GSE_list:\n",
    "\n",
    "        GSE_df = gt.series(GSE).transpose()\n",
    "\n",
    "    #     let's make it multiindex with the GSEs\n",
    "        multi_index_arrays = [[], []]\n",
    "        for GSM in GSE_df.index:\n",
    "            multi_index_arrays[0].append(GSE)\n",
    "            multi_index_arrays[1].append(GSM)\n",
    "\n",
    "        GSE_df.index =  pd.MultiIndex.from_arrays(multi_index_arrays)\n",
    "\n",
    "        # we need to deal with the missing values\n",
    "        GSE_df.fillna(inplace= True, method= 'ffill')\n",
    "    #     print (GSE_df.equals(GSE_df.dropna(axis= 'columns')))\n",
    "\n",
    "        GSE_df_dict[GSE] = GSE_df\n",
    "        GSE_df_list.append(GSE_df)\n",
    "\n",
    "    X_df = pd.concat(GSE_df_list)\n",
    "\n",
    "    # now let's manually remove the rows that still contain invalid values that the pandas library wasn't able to deal with in the\n",
    "    # above cells\n",
    "\n",
    "    samples_na = X_df.isna().any(axis= 1)\n",
    "\n",
    "    for sample in samples_na.index:\n",
    "        if samples_na.loc[sample]:\n",
    "            X_df.drop(labels= sample, inplace= True)\n",
    "\n",
    "    y = []\n",
    "    for row in X_df.index:\n",
    "        y.append(gt.info(row[0], row[1], info= info))\n",
    "        \n",
    "    index_arr = [re.match(\"cg\", label) == None for label in X_df.columns]\n",
    "    bad_labels = np.array(X_df.columns)[index_arr]\n",
    "    \n",
    "    X_df.drop(labels= bad_labels, axis= \"columns\", inplace= True)\n",
    "    \n",
    "    # add stuff to drop rows with more than 10 missing values\n",
    "        \n",
    "    return X_df, y"
   ]
  },
  {
   "cell_type": "code",
   "execution_count": 4,
   "metadata": {},
   "outputs": [],
   "source": [
    "temp_data_28k = [\"GSE41037\"]"
   ]
  },
  {
   "cell_type": "code",
   "execution_count": 5,
   "metadata": {},
   "outputs": [],
   "source": [
    "temp_data_450k = [\"GSE41169\"]"
   ]
  },
  {
   "cell_type": "code",
   "execution_count": 6,
   "metadata": {},
   "outputs": [],
   "source": [
    "temp_X_28k_wb, _ = process_data(temp_data_28k)"
   ]
  },
  {
   "cell_type": "code",
   "execution_count": 7,
   "metadata": {},
   "outputs": [],
   "source": [
    "temp_X_450k_wb, _ = process_data(temp_data_450k)"
   ]
  },
  {
   "cell_type": "code",
   "execution_count": 8,
   "metadata": {},
   "outputs": [],
   "source": [
    "# 450k array doesn't have some of the 28k array columns\n",
    "shared_CpGs = list(set(temp_X_28k_wb.columns).intersection(set(temp_X_450k_wb.columns)))"
   ]
  },
  {
   "cell_type": "code",
   "execution_count": 9,
   "metadata": {},
   "outputs": [],
   "source": [
    "del temp_data_28k, temp_data_450k, temp_X_28k_wb, temp_X_450k_wb, _"
   ]
  },
  {
   "cell_type": "markdown",
   "metadata": {},
   "source": [
    "## Figure 4A"
   ]
  },
  {
   "cell_type": "code",
   "execution_count": 10,
   "metadata": {},
   "outputs": [],
   "source": [
    "hannum_data = [\"GSE40279\"]"
   ]
  },
  {
   "cell_type": "code",
   "execution_count": 11,
   "metadata": {},
   "outputs": [],
   "source": [
    "hannum_X, hannum_y = process_data(hannum_data)"
   ]
  },
  {
   "cell_type": "code",
   "execution_count": 12,
   "metadata": {},
   "outputs": [],
   "source": [
    "hannum_CpGs = hannum_X.columns"
   ]
  },
  {
   "cell_type": "code",
   "execution_count": 13,
   "metadata": {},
   "outputs": [],
   "source": [
    "scaler = StandardScaler()"
   ]
  },
  {
   "cell_type": "code",
   "execution_count": 14,
   "metadata": {},
   "outputs": [],
   "source": [
    "hannum_X = scaler.fit_transform(hannum_X, hannum_y)"
   ]
  },
  {
   "cell_type": "code",
   "execution_count": null,
   "metadata": {},
   "outputs": [],
   "source": [
    "hannum_X_train, hannum_X_test, hannum_y_train, hannum_y_test = train_test_split(hannum_X, hannum_y, test_size= 0.20)\n",
    "\n",
    "hannum_data_model = model.ElasticNetCV(alphas= [0.02, 0.05, 0.1, 0.3, 0.5, 0.7, 0.9, 1], l1_ratio= [0.1, 0.3, 0.5, 0.8, 0.95], selection= \"random\")"
   ]
  },
  {
   "cell_type": "code",
   "execution_count": null,
   "metadata": {},
   "outputs": [],
   "source": [
    "han_alpha = hannum_data_model.alpha\n",
    "han_l1_ratio = hannum_data_model.l1_ratio"
   ]
  },
  {
   "cell_type": "code",
   "execution_count": null,
   "metadata": {},
   "outputs": [],
   "source": [
    "hannum_data_model.fit(hannum_X_train, hannum_y_train)"
   ]
  },
  {
   "cell_type": "code",
   "execution_count": null,
   "metadata": {},
   "outputs": [],
   "source": [
    "age_pred = hannum_data_model.predict(hannum_X_test)\n",
    "plt.scatter(hannum_y_test, age_pred, label= \"samples\", marker= \"+\")\n",
    "plt.title(\"DNAm pred. vs actual age, Hannum\\nr= \" + str(stats.pearsonr(hannum_y_test, age_pred)[0]), loc= \"right\")\n",
    "plt.xlim(0, 100)\n",
    "plt.ylim(0, 100)\n",
    "accuracy_line = [0, 100]\n",
    "plt.plot(accuracy_line, accuracy_line)\n",
    "plt.xlabel(\"actual age\")\n",
    "plt.ylabel(\"DNAm predicted age\")\n",
    "plt.legend()\n",
    "plt.savefig(fname= \"hannum_data_age_model\")\n",
    "plt.show()"
   ]
  },
  {
   "cell_type": "code",
   "execution_count": null,
   "metadata": {},
   "outputs": [],
   "source": [
    "del hannum_X_train, hannum_X_test, hannum_y_train, hannum_y_test"
   ]
  },
  {
   "cell_type": "markdown",
   "metadata": {},
   "source": [
    "now let's train a model where we randomize ages in the middle but keep young and old cohorts' actual age"
   ]
  },
  {
   "cell_type": "code",
   "execution_count": null,
   "metadata": {},
   "outputs": [],
   "source": [
    "hannum_y_cohorts = hannum_y.copy()"
   ]
  },
  {
   "cell_type": "code",
   "execution_count": null,
   "metadata": {},
   "outputs": [],
   "source": [
    "rand_age_ind = []\n",
    "norm_age_ind = []\n",
    "for i in range(len(hannum_y_cohorts)):\n",
    "    age = hannum_y_cohorts[i]\n",
    "    if age >= 43 and age < 80:\n",
    "        hannum_y_cohorts[i] = np.random.randint(43, 80)\n",
    "        rand_age_ind.append(True)\n",
    "        norm_age_ind.append(False)\n",
    "    else:\n",
    "        rand_age_ind.append(False)\n",
    "        norm_age_ind.append(True)"
   ]
  },
  {
   "cell_type": "code",
   "execution_count": null,
   "metadata": {},
   "outputs": [],
   "source": [
    "hannum_X_train, hannum_X_test, hannum_y_train, hannum_y_test, rand_age_ind_train, rand_age_ind_test, norm_age_ind_train, \\\n",
    "norm_age_ind_test = train_test_split(hannum_X, hannum_y, rand_age_ind, norm_age_ind, test_size= 0.20)"
   ]
  },
  {
   "cell_type": "code",
   "execution_count": null,
   "metadata": {},
   "outputs": [],
   "source": [
    "hannum_data_model_rand = model.ElasticNet(alpha= han_alpha, l1_ratio= han_l1_ratio)"
   ]
  },
  {
   "cell_type": "code",
   "execution_count": null,
   "metadata": {},
   "outputs": [],
   "source": [
    "hannum_data_model_rand.fit(hannum_X_train, hannum_y_train)"
   ]
  },
  {
   "cell_type": "code",
   "execution_count": null,
   "metadata": {},
   "outputs": [],
   "source": [
    "han_coh_pred = hannum_data_model_coh.predict(hannum_X_test)"
   ]
  },
  {
   "cell_type": "code",
   "execution_count": null,
   "metadata": {},
   "outputs": [],
   "source": [
    "plt.scatter(np.array(hannum_y_test)[norm_age_ind_test], np.array(han_coh_pred)[norm_age_ind_test], label= \"normal age\", marker= \"+\")\n",
    "plt.scatter(np.array(hannum_y_test)[rand_age_ind_test], np.array(han_coh_pred)[rand_age_ind_test], label= \"randomized age\", marker= \"+\")\n",
    "acc_line = [0, 100]\n",
    "plt.xlim(0, 100)\n",
    "plt.ylim(0, 100)\n",
    "plt.plot(acc_line, acc_line)\n",
    "plt.xlabel(\"actual age\")\n",
    "plt.ylabel(\"DNAm pred. age\")\n",
    "plt.title(\"DNAm pred. vs actual age, Hannum Random\\n\" + \"r= \" + str(stats.pearsonr(hannum_y_test, han_coh_pred)[0]), loc= \"right\")\n",
    "plt.legend()\n",
    "plt.savefig(\"han_coh_model\")\n",
    "plt.show()"
   ]
  },
  {
   "cell_type": "markdown",
   "metadata": {},
   "source": [
    "now for Horvath WB"
   ]
  },
  {
   "cell_type": "code",
   "execution_count": null,
   "metadata": {},
   "outputs": [],
   "source": [
    "wb_data_28k = [\"GSE41037\", \"GSE20067\", \"GSE20236\", \"GSE19711\"]"
   ]
  },
  {
   "cell_type": "code",
   "execution_count": null,
   "metadata": {},
   "outputs": [],
   "source": [
    "wb_data_450k = [\"GSE41169\", \"GSE42861\"]"
   ]
  },
  {
   "cell_type": "code",
   "execution_count": null,
   "metadata": {},
   "outputs": [],
   "source": [
    "X_28k_wb, y_28k_wb = process_data(wb_data_28k)"
   ]
  },
  {
   "cell_type": "code",
   "execution_count": null,
   "metadata": {},
   "outputs": [],
   "source": [
    "X_450k_wb, y_450k_wb = process_data(wb_data_450k)"
   ]
  },
  {
   "cell_type": "code",
   "execution_count": null,
   "metadata": {},
   "outputs": [],
   "source": [
    "X_450k_wb_shar = X_450k_wb[shared_CpGs]\n",
    "X_28k_wb_shar = X_28k_wb[shared_CpGs]"
   ]
  },
  {
   "cell_type": "code",
   "execution_count": null,
   "metadata": {},
   "outputs": [],
   "source": [
    "X_wb = pd.concat([X_450k_wb_shar, X_28k_wb_shar])\n",
    "y_wb = y_450k_wb + y_28k_wb"
   ]
  },
  {
   "cell_type": "code",
   "execution_count": null,
   "metadata": {},
   "outputs": [],
   "source": [
    "del X_28k_wb, y_28k_wb, X_450k_wb, y_450k_wb, X_450k_wb_shar, X_28k_wb_shar"
   ]
  },
  {
   "cell_type": "code",
   "execution_count": null,
   "metadata": {},
   "outputs": [],
   "source": [
    "# wb_model = model.ElasticNetCV(alphas= [0.02, 0.05, 0.1, 0.3, 0.5, 0.7, 0.9, 1], l1_ratio= [0.1, 0.3, 0.5, 0.8, 0.95], selection= \"random\")\n",
    "wb_model = model.ElasticNet(alpha= 0.02, l1_ratio= 0.1)"
   ]
  },
  {
   "cell_type": "code",
   "execution_count": null,
   "metadata": {},
   "outputs": [],
   "source": [
    "X_wb = scaler.fit_transform(X_wb)"
   ]
  },
  {
   "cell_type": "code",
   "execution_count": null,
   "metadata": {},
   "outputs": [],
   "source": [
    "X_wb_train, X_wb_test, y_wb_train, y_wb_test = train_test_split(X_wb, y_wb, test_size= 0.20)"
   ]
  },
  {
   "cell_type": "code",
   "execution_count": null,
   "metadata": {},
   "outputs": [],
   "source": [
    "wb_model.fit(X_wb_train, y_wb_train)"
   ]
  },
  {
   "cell_type": "code",
   "execution_count": null,
   "metadata": {},
   "outputs": [],
   "source": [
    "alpha_wb = wb_model.alpha\n",
    "l1_ratio_wb = wb_model.l1_ratio\n",
    "\n",
    "# alpha_wb = wb_model.alpha\n",
    "# l1_ratio_wb = wb_model.l1_ratio\n",
    "\n",
    "# best so far: 0.02, 0.1\n",
    "print(alpha_wb, l1_ratio_wb)"
   ]
  },
  {
   "cell_type": "code",
   "execution_count": null,
   "metadata": {},
   "outputs": [],
   "source": [
    "age_pred_wb = wb_model.predict(X_wb_test)\n",
    "\n",
    "plt.scatter(y_wb_test, age_pred_wb, label= \"sample\", marker= \"+\")\n",
    "plt.xlim(0, 100)\n",
    "plt.ylim(0, 100)\n",
    "acc_line_wb = [0, 100]\n",
    "plt.plot(acc_line_wb, acc_line_wb)\n",
    "plt.xlabel(\"actual age\")\n",
    "plt.ylabel(\"DNAm pred. age\")\n",
    "plt.title(\"DNAm pred. vs actual age, Horvath WB\\n\" + \"r= \" + str(stats.pearsonr(np.array(y_wb_test), age_pred_wb)[0]), loc= \"right\")\n",
    "plt.legend()\n",
    "plt.savefig(\"horvath_wb_data_age_model\", bbox_inches= \"tight\")\n",
    "plt.show()"
   ]
  },
  {
   "cell_type": "code",
   "execution_count": null,
   "metadata": {},
   "outputs": [],
   "source": [
    "del X_wb_train, X_wb_test"
   ]
  },
  {
   "cell_type": "markdown",
   "metadata": {},
   "source": [
    "now let's do this with random middle ages"
   ]
  },
  {
   "cell_type": "code",
   "execution_count": null,
   "metadata": {},
   "outputs": [],
   "source": [
    "y_wb_coh = y_wb.copy()"
   ]
  },
  {
   "cell_type": "code",
   "execution_count": null,
   "metadata": {},
   "outputs": [],
   "source": [
    "rand_age_ind_wb = []\n",
    "norm_age_ind_wb = []\n",
    "for i in range(len(y_wb_coh)):\n",
    "    age = y_wb_coh[i]\n",
    "    if age >= 24 and age < 70:\n",
    "        y_wb_coh[i] = np.random.randint(24, 70)\n",
    "        rand_age_ind_wb.append(True)\n",
    "        norm_age_ind_wb.append(False)\n",
    "    else:\n",
    "        rand_age_ind_wb.append(False)\n",
    "        norm_age_ind_wb.append(True)"
   ]
  },
  {
   "cell_type": "code",
   "execution_count": null,
   "metadata": {},
   "outputs": [],
   "source": [
    "wb_X_train, wb_X_test, wb_y_train, wb_y_test, rand_age_ind_train_wb, rand_age_ind_test_wb, norm_age_ind_train_wb, \\\n",
    "norm_age_ind_test_wb = train_test_split(X_wb, y_wb, rand_age_ind_wb, norm_age_ind_wb, test_size= 0.20)"
   ]
  },
  {
   "cell_type": "code",
   "execution_count": null,
   "metadata": {},
   "outputs": [],
   "source": [
    "wb_data_model_coh = model.ElasticNet(alpha= 0.02, l1_ratio= 0.1)"
   ]
  },
  {
   "cell_type": "code",
   "execution_count": null,
   "metadata": {},
   "outputs": [],
   "source": [
    "wb_data_model_coh.fit(wb_X_train, wb_y_train)"
   ]
  },
  {
   "cell_type": "code",
   "execution_count": null,
   "metadata": {},
   "outputs": [],
   "source": [
    "wb_coh_pred = wb_data_model_coh.predict(wb_X_test)"
   ]
  },
  {
   "cell_type": "code",
   "execution_count": null,
   "metadata": {},
   "outputs": [],
   "source": [
    "plt.scatter(np.array(wb_y_test)[norm_age_ind_test_wb], np.array(wb_coh_pred)[norm_age_ind_test_wb], label= \"normal age\", marker= \"+\")\n",
    "plt.scatter(np.array(wb_y_test)[rand_age_ind_test_wb], np.array(wb_coh_pred)[rand_age_ind_test_wb], label= \"randomized age\", marker= \"+\")\n",
    "plt.xlim(0, 100)\n",
    "plt.ylim(0, 100)\n",
    "acc_line = [0, 100]\n",
    "plt.plot(acc_line, acc_line)\n",
    "plt.xlabel(\"actual age\")\n",
    "plt.ylabel(\"DNAm pred. age\")\n",
    "plt.title(\"DNAm pred. vs actual age, Horvath WB Random\\n\" + \"r= \" + str(stats.pearsonr(wb_y_test, wb_coh_pred)[0]), loc= \"right\")\n",
    "plt.legend()\n",
    "plt.savefig(\"wb_coh_model\")\n",
    "plt.show()"
   ]
  },
  {
   "cell_type": "markdown",
   "metadata": {},
   "source": [
    "### validating Hannum-based and Horvath WB models using external datasets"
   ]
  },
  {
   "cell_type": "code",
   "execution_count": null,
   "metadata": {},
   "outputs": [],
   "source": [
    "brca1_data = [\"GSE57285\"]"
   ]
  },
  {
   "cell_type": "code",
   "execution_count": null,
   "metadata": {},
   "outputs": [],
   "source": [
    "X_brca1, y_brca1 = process_data(brca1_data)"
   ]
  },
  {
   "cell_type": "code",
   "execution_count": null,
   "metadata": {},
   "outputs": [],
   "source": [
    "_, brca_stat = process_data(brca1_data, info= \"brca1\")"
   ]
  },
  {
   "cell_type": "code",
   "execution_count": null,
   "metadata": {},
   "outputs": [],
   "source": [
    "X_brca1.head(4)"
   ]
  },
  {
   "cell_type": "code",
   "execution_count": null,
   "metadata": {},
   "outputs": [],
   "source": [
    "X_brca1 = X_brca1[shared_CpGs]"
   ]
  },
  {
   "cell_type": "code",
   "execution_count": null,
   "metadata": {},
   "outputs": [],
   "source": [
    "X_brca1 = scaler.fit_transform(X_brca1, y_brca1)"
   ]
  },
  {
   "cell_type": "code",
   "execution_count": null,
   "metadata": {},
   "outputs": [],
   "source": [
    "wb_y_brca1 = wb_model.predict(X_brca1)"
   ]
  },
  {
   "cell_type": "code",
   "execution_count": null,
   "metadata": {},
   "outputs": [],
   "source": [
    "brca_c0_ind = [0 == code for code in brca_stat]\n",
    "brca_c1_ind = [1 == code for code in brca_stat]\n",
    "brca_c2_ind = [2 == code for code in brca_stat]"
   ]
  },
  {
   "cell_type": "code",
   "execution_count": null,
   "metadata": {},
   "outputs": [],
   "source": [
    "# brca_y_v_arr = np.array(brca_y_v)\n",
    "y_brca1_arr = np.array(y_brca1)"
   ]
  },
  {
   "cell_type": "code",
   "execution_count": null,
   "metadata": {},
   "outputs": [],
   "source": [
    "plt.scatter(y_brca1_arr[brca_c0_ind], wb_y_brca1[brca_c0_ind], color= \"blue\", label= \"healthy brca1 wt\", marker= \"+\")\n",
    "plt.scatter(y_brca1_arr[brca_c1_ind], wb_y_brca1[brca_c1_ind], color= \"red\", label= \"healthy brca1 mt\", marker= \"+\")\n",
    "plt.scatter(y_brca1_arr[brca_c2_ind], wb_y_brca1[brca_c2_ind], color= \"green\", label= \"breast cancer brca1 mt\", marker= \"+\")\n",
    "plt.xlim(0, 100)\n",
    "plt.ylim(0, 100)\n",
    "acc_line_brca1 = [0, 100]\n",
    "plt.plot(acc_line_brca1, acc_line_brca1)\n",
    "plt.xlabel(\"actual age\")\n",
    "plt.ylabel(\"DNAm pred. age\")\n",
    "plt.title(\"DNAm pred. vs actual age, Horvath WB\\n\" + \"r= \" + str(stats.pearsonr(y_brca1_arr, wb_y_brca1)[0]), loc= \"right\")\n",
    "plt.legend()\n",
    "plt.savefig(\"brca1_age_wb\")\n",
    "plt.show()"
   ]
  },
  {
   "cell_type": "code",
   "execution_count": null,
   "metadata": {},
   "outputs": [],
   "source": [
    "plt.scatter(y_brca1_arr[brca_c0_ind], wb_y_brca1[brca_c0_ind], color= \"blue\", label= \"healthy brca1 wt\", marker= \"+\")\n",
    "plt.xlim(0, 100)\n",
    "plt.ylim(0, 100)\n",
    "acc_line_v = [0, 100]\n",
    "plt.plot(acc_line_v, acc_line_v)\n",
    "plt.xlabel(\"actual age\")\n",
    "plt.ylabel(\"DNAm pred. age\")\n",
    "plt.title(\"DNAm pred. vs actual age, Horvath WB\\n\" + \"r= \" + str(stats.pearsonr(y_brca1_arr[brca_c0_ind], wb_y_brca1[brca_c0_ind])[0]), loc= \"right\")\n",
    "plt.legend()\n",
    "plt.savefig(\"brca1_age_wb_h_brca_wt\")\n",
    "plt.show()"
   ]
  },
  {
   "cell_type": "code",
   "execution_count": null,
   "metadata": {},
   "outputs": [],
   "source": [
    "plt.scatter(y_brca1_arr[brca_c1_ind], wb_y_brca1[brca_c1_ind], color= \"red\", label= \"healthy brca1 mt\", marker= \"+\")\n",
    "plt.plot(acc_line_brca1, acc_line_brca1)\n",
    "plt.xlim(0, 100)\n",
    "plt.ylim(0, 100)\n",
    "plt.xlabel(\"actual age\")\n",
    "plt.ylabel(\"DNAm pred. age\")\n",
    "plt.title(\"DNAm pred. vs actual age, Horvath WB\\n\" + \"r= \" + str(stats.pearsonr(y_brca1_arr[brca_c1_ind], wb_y_brca1[brca_c1_ind])[0]), loc= \"right\")\n",
    "plt.legend()\n",
    "plt.savefig(\"brca1_age_wb_h_brca1_mt\")\n",
    "plt.show()"
   ]
  },
  {
   "cell_type": "code",
   "execution_count": null,
   "metadata": {},
   "outputs": [],
   "source": [
    "plt.scatter(y_brca1_arr[brca_c2_ind], wb_y_brca1[brca_c2_ind], color= \"green\", label= \"breast cancer brca1 mt\", marker= \"+\")\n",
    "plt.plot(acc_line_brca1, acc_line_brca1)\n",
    "plt.xlim(0, 100)\n",
    "plt.ylim(0, 100)\n",
    "plt.xlabel(\"actual age\")\n",
    "plt.ylabel(\"DNAm pred. age\")\n",
    "plt.title(\"DNAm pred. vs actual age, Horvath WB\\n\" + \"r= \" + str(stats.pearsonr(y_brca1_arr[brca_c2_ind], wb_y_brca1[brca_c2_ind])[0]), loc= \"right\")\n",
    "plt.legend()\n",
    "plt.savefig(\"brca1_age_wb_canc_brca1_mt\")\n",
    "plt.show()"
   ]
  },
  {
   "cell_type": "code",
   "execution_count": null,
   "metadata": {},
   "outputs": [],
   "source": [
    "# X_brca1 is a 27k dataset so we can't test with Hannum "
   ]
  },
  {
   "cell_type": "markdown",
   "metadata": {},
   "source": [
    "let's look at an HIV dataset"
   ]
  },
  {
   "cell_type": "code",
   "execution_count": null,
   "metadata": {},
   "outputs": [],
   "source": [
    "HIV_male_data = [\"GSE53840\"]"
   ]
  },
  {
   "cell_type": "code",
   "execution_count": null,
   "metadata": {},
   "outputs": [],
   "source": [
    "X_HIV, y_HIV = process_data(HIV_male_data)"
   ]
  },
  {
   "cell_type": "code",
   "execution_count": null,
   "metadata": {},
   "outputs": [],
   "source": [
    "X_HIV[\"age\"] = y_HIV"
   ]
  },
  {
   "cell_type": "code",
   "execution_count": null,
   "metadata": {},
   "outputs": [],
   "source": [
    "# we need to filter for missing ages (they default to 0)\n",
    "X_HIV = X_HIV[X_HIV[\"age\"] != 0.0]\n",
    "\n",
    "row_keep = [a != 0.0 for a in y_HIV]\n",
    "y_HIV = np.array(y_HIV)[row_keep]"
   ]
  },
  {
   "cell_type": "code",
   "execution_count": null,
   "metadata": {},
   "outputs": [],
   "source": [
    "X_HIV.drop(labels= \"age\", axis= \"columns\", inplace= True)"
   ]
  },
  {
   "cell_type": "code",
   "execution_count": null,
   "metadata": {},
   "outputs": [],
   "source": [
    "X_HIV.head(4)"
   ]
  },
  {
   "cell_type": "code",
   "execution_count": null,
   "metadata": {},
   "outputs": [],
   "source": [
    "X_HIV_wb = X_HIV[shared_CpGs]"
   ]
  },
  {
   "cell_type": "code",
   "execution_count": null,
   "metadata": {},
   "outputs": [],
   "source": [
    "X_HIV_wb = scaler.fit_transform(X_HIV_wb)"
   ]
  },
  {
   "cell_type": "code",
   "execution_count": null,
   "metadata": {},
   "outputs": [],
   "source": [
    "y_HIV_pred = wb_model.predict(X_HIV_wb)"
   ]
  },
  {
   "cell_type": "code",
   "execution_count": null,
   "metadata": {},
   "outputs": [],
   "source": [
    "y_HIV_arr = np.array(y_HIV)"
   ]
  },
  {
   "cell_type": "code",
   "execution_count": null,
   "metadata": {},
   "outputs": [],
   "source": [
    "plt.scatter(y_HIV_arr, y_HIV_pred, label= \"HIV+ male\", marker= \"+\")\n",
    "acc_line_v = [0, 100]\n",
    "plt.xlim(0, 100)\n",
    "plt.ylim(0, 100)\n",
    "plt.plot(acc_line_v, acc_line_v)\n",
    "plt.xlabel(\"actual age\")\n",
    "plt.ylabel(\"DNAm pred. age\")\n",
    "plt.title(\"DNAm pred. vs actual age, Horvath WB\\n\" + \"r= \" + str(stats.pearsonr(y_HIV_arr, y_HIV_pred)[0]), loc= \"right\")\n",
    "plt.legend()\n",
    "plt.savefig(\"age_hiv_wb\", bbox_inches= \"tight\")\n",
    "plt.show()"
   ]
  },
  {
   "cell_type": "markdown",
   "metadata": {},
   "source": [
    "now let's see how the Hannum based model behaves"
   ]
  },
  {
   "cell_type": "code",
   "execution_count": null,
   "metadata": {},
   "outputs": [],
   "source": [
    "X_HIV_hann, y_HIV_hann = process_data(HIV_male_data)"
   ]
  },
  {
   "cell_type": "code",
   "execution_count": null,
   "metadata": {},
   "outputs": [],
   "source": [
    "X_HIV_hann = X_HIV_hann[hannum_CpGs]"
   ]
  },
  {
   "cell_type": "code",
   "execution_count": null,
   "metadata": {},
   "outputs": [],
   "source": [
    "X_HIV_hann[\"age\"] = y_HIV_hann"
   ]
  },
  {
   "cell_type": "code",
   "execution_count": null,
   "metadata": {},
   "outputs": [],
   "source": [
    "# we need to filter for missing ages (they default to 0)\n",
    "X_HIV_hann = X_HIV_hann[X_HIV_hann[\"age\"] != 0.0]\n",
    "\n",
    "row_keep = [a != 0.0 for a in y_HIV_hann]\n",
    "y_HIV_hann = np.array(y_HIV_hann)[row_keep]"
   ]
  },
  {
   "cell_type": "code",
   "execution_count": null,
   "metadata": {},
   "outputs": [],
   "source": [
    "X_HIV_hann.drop(labels= \"age\", axis= \"columns\", inplace= True)"
   ]
  },
  {
   "cell_type": "code",
   "execution_count": null,
   "metadata": {},
   "outputs": [],
   "source": [
    "X_HIV_hann.head(3)"
   ]
  },
  {
   "cell_type": "code",
   "execution_count": null,
   "metadata": {},
   "outputs": [],
   "source": [
    "X_HIV_hann = scaler.fit_transform(X_HIV_hann, y_HIV_hann)"
   ]
  },
  {
   "cell_type": "code",
   "execution_count": null,
   "metadata": {},
   "outputs": [],
   "source": [
    "y_pred_HIV_hann = hannum_data_model.predict(X_HIV_hann)"
   ]
  },
  {
   "cell_type": "code",
   "execution_count": null,
   "metadata": {},
   "outputs": [],
   "source": [
    "plt.scatter(y_HIV_arr, y_pred_HIV_hann, label= \"HIV+ male\", marker= \"+\")\n",
    "plt.plot(acc_line_v, acc_line_v)\n",
    "plt.xlim(0, 100)\n",
    "plt.ylim(0, 100)\n",
    "plt.xlabel(\"actual age\")\n",
    "plt.ylabel(\"DNAm pred. age\")\n",
    "plt.title(\"DNAm pred. vs actual age, Hannum\\n\" + \"r= \" + str(stats.pearsonr(y_HIV_arr, y_pred_HIV_hann)[0]), loc= \"right\")\n",
    "plt.legend()\n",
    "plt.savefig(\"age_hiv_hannum\", bbox_inches= \"tight\")\n",
    "plt.show()"
   ]
  },
  {
   "cell_type": "markdown",
   "metadata": {},
   "source": [
    "let's see if a trained OLS regression model will give us good results"
   ]
  },
  {
   "cell_type": "code",
   "execution_count": null,
   "metadata": {},
   "outputs": [],
   "source": [
    "HIV_OLS = model.LinearRegression()"
   ]
  },
  {
   "cell_type": "code",
   "execution_count": null,
   "metadata": {},
   "outputs": [],
   "source": [
    "X_HIV = scaler.fit_transform(X_HIV)"
   ]
  },
  {
   "cell_type": "code",
   "execution_count": null,
   "metadata": {},
   "outputs": [],
   "source": [
    "X_HIV_train, X_HIV_test, y_HIV_train, y_HIV_test = train_test_split(X_HIV, y_HIV_arr, test_size= 20)"
   ]
  },
  {
   "cell_type": "code",
   "execution_count": null,
   "metadata": {},
   "outputs": [],
   "source": [
    "HIV_OLS.fit(X_HIV_train, y_HIV_train)"
   ]
  },
  {
   "cell_type": "code",
   "execution_count": null,
   "metadata": {},
   "outputs": [],
   "source": [
    "y_HIV_OLS_pred = HIV_OLS.predict(X_HIV_test)"
   ]
  },
  {
   "cell_type": "code",
   "execution_count": null,
   "metadata": {
    "scrolled": true
   },
   "outputs": [],
   "source": [
    "plt.scatter(y_HIV_test, y_HIV_OLS_pred, label= \"HIV+ male\", marker= \"+\")\n",
    "acc_line = [0, 100]\n",
    "plt.xlim(0, 100)\n",
    "plt.ylim(0, 100)\n",
    "plt.plot(acc_line, acc_line)\n",
    "plt.xlabel(\"actual age\")\n",
    "plt.ylabel(\"DNAm pred. age\")\n",
    "HIV_OLS_r = stats.pearsonr(y_HIV_test, y_HIV_OLS_pred)[0]\n",
    "plt.title(\"DNAm pred. vs actual age, OLS model\\n\" + \"r= \" + str(HIV_OLS_r), loc= \"right\")\n",
    "plt.legend()\n",
    "plt.savefig(\"OLS_HIV\")\n",
    "plt.show()"
   ]
  },
  {
   "cell_type": "markdown",
   "metadata": {},
   "source": [
    "let's look at a rheumatoid arthritis dataset"
   ]
  },
  {
   "cell_type": "code",
   "execution_count": null,
   "metadata": {},
   "outputs": [],
   "source": [
    "rheu_data = [\"GSE42861\"]"
   ]
  },
  {
   "cell_type": "code",
   "execution_count": null,
   "metadata": {},
   "outputs": [],
   "source": [
    "X_rheu, y_rheu = process_data(rheu_data)"
   ]
  },
  {
   "cell_type": "code",
   "execution_count": null,
   "metadata": {},
   "outputs": [],
   "source": [
    "_, rheu_stat = process_data(rheu_data, info= \"arthritis\")"
   ]
  },
  {
   "cell_type": "code",
   "execution_count": null,
   "metadata": {},
   "outputs": [],
   "source": [
    "X_rheu_wb = X_rheu[shared_CpGs]"
   ]
  },
  {
   "cell_type": "code",
   "execution_count": null,
   "metadata": {},
   "outputs": [],
   "source": [
    "X_rheu_wb.head(4)"
   ]
  },
  {
   "cell_type": "code",
   "execution_count": null,
   "metadata": {},
   "outputs": [],
   "source": [
    "X_rheu_wb_arr = scaler.fit_transform(X_rheu_wb)"
   ]
  },
  {
   "cell_type": "code",
   "execution_count": null,
   "metadata": {},
   "outputs": [],
   "source": [
    "wb_rheu_y_pred = wb_model.predict(X_rheu_wb_arr)"
   ]
  },
  {
   "cell_type": "code",
   "execution_count": null,
   "metadata": {},
   "outputs": [],
   "source": [
    "arth_c0_ind = [\"normal\" == code for code in rheu_stat]\n",
    "arth_c1_ind = [\"rheumatoid arthritis\" == code for code in rheu_stat]"
   ]
  },
  {
   "cell_type": "code",
   "execution_count": null,
   "metadata": {},
   "outputs": [],
   "source": [
    "# arth_status_v_arr = np.array(arth_status_v)\n",
    "y_rheu_arr = np.array(y_rheu)"
   ]
  },
  {
   "cell_type": "code",
   "execution_count": null,
   "metadata": {},
   "outputs": [],
   "source": [
    "plt.scatter(y_rheu_arr[arth_c0_ind], wb_rheu_y_pred[arth_c0_ind], color= \"blue\", label= \"normal\", marker= \"+\")\n",
    "plt.scatter(y_rheu_arr[arth_c1_ind], wb_rheu_y_pred[arth_c1_ind], color= \"red\", label= \"rheumatoid arthritis\", marker= \"+\")\n",
    "acc_line = [0, 100]\n",
    "plt.xlim(0, 100)\n",
    "plt.ylim(0, 100)\n",
    "plt.plot(acc_line, acc_line)\n",
    "plt.xlabel(\"actual age\")\n",
    "plt.ylabel(\"DNAm pred. age\")\n",
    "plt.title(\"DNAm pred. vs actual age, Horvath WB\\n\" + \"r= \" + str(stats.pearsonr(y_rheu_arr, wb_rheu_y_pred)[0]), loc= \"right\")\n",
    "plt.legend()\n",
    "plt.savefig(\"wb_arthritis\")\n",
    "plt.show()"
   ]
  },
  {
   "cell_type": "code",
   "execution_count": null,
   "metadata": {},
   "outputs": [],
   "source": [
    "wb_coh_pred_arth = wb_data_model_coh.predict(X_rheu_wb_arr)"
   ]
  },
  {
   "cell_type": "code",
   "execution_count": null,
   "metadata": {},
   "outputs": [],
   "source": [
    "plt.scatter(y_rheu_arr[arth_c0_ind], wb_coh_pred_arth[arth_c0_ind], color= \"blue\", label= \"normal\", marker= \"+\")\n",
    "plt.scatter(y_rheu_arr[arth_c1_ind], wb_coh_pred_arth[arth_c1_ind], color= \"red\", label= \"rheumatoid arthritis\", marker= \"+\")\n",
    "acc_line = [0, 100]\n",
    "plt.xlim(0, 100)\n",
    "plt.ylim(0, 100)\n",
    "plt.plot(acc_line, acc_line)\n",
    "plt.xlabel(\"actual age\")\n",
    "plt.ylabel(\"DNAm pred. age\")\n",
    "plt.title(\"DNAm pred. vs actual age, Horvath WB Random\\n\" + \"r= \" + str(stats.pearsonr(y_rheu_arr, wb_coh_pred_arth)[0]), loc= \"right\")\n",
    "plt.legend()\n",
    "plt.savefig(\"wb_coh_arthritis\")\n",
    "plt.show()"
   ]
  },
  {
   "cell_type": "markdown",
   "metadata": {},
   "source": [
    "now let's see how the Hannum based model performs"
   ]
  },
  {
   "cell_type": "code",
   "execution_count": null,
   "metadata": {},
   "outputs": [],
   "source": [
    "X_rheu_hann = X_rheu[hannum_CpGs]"
   ]
  },
  {
   "cell_type": "code",
   "execution_count": null,
   "metadata": {},
   "outputs": [],
   "source": [
    "X_rheu_hann = scaler.fit_transform(X_rheu_hann, y_rheu)"
   ]
  },
  {
   "cell_type": "code",
   "execution_count": null,
   "metadata": {},
   "outputs": [],
   "source": [
    "hann_rheu_y_pred = hannum_data_model.predict(X_rheu_hann)"
   ]
  },
  {
   "cell_type": "code",
   "execution_count": null,
   "metadata": {},
   "outputs": [],
   "source": [
    "plt.scatter(y_rheu_arr[arth_c0_ind], hann_rheu_y_pred[arth_c0_ind], color= \"blue\", label= \"normal\", marker= \"+\")\n",
    "plt.scatter(y_rheu_arr[arth_c1_ind], hann_rheu_y_pred[arth_c1_ind], color= \"red\", label= \"rheumatoid arthritis\", marker= \"+\")\n",
    "acc_line = [0, 100]\n",
    "plt.plot(acc_line, acc_line)\n",
    "plt.xlabel(\"actual age\")\n",
    "plt.ylabel(\"DNAm pred. age\")\n",
    "plt.title(\"DNAm pred. vs actual age, Hannum\\n\" + \"r= \" + str(stats.pearsonr(y_rheu_arr, hann_rheu_y_pred)[0]), loc= \"right\")\n",
    "plt.legend()\n",
    "plt.savefig(\"hannum_arthritis\")\n",
    "plt.show()"
   ]
  },
  {
   "cell_type": "code",
   "execution_count": null,
   "metadata": {},
   "outputs": [],
   "source": [
    "han_coh_pred_arth = hannum_data_model_coh.predict(X_rheu_hann)"
   ]
  },
  {
   "cell_type": "code",
   "execution_count": null,
   "metadata": {},
   "outputs": [],
   "source": [
    "plt.scatter(y_rheu_arr[arth_c0_ind], han_coh_pred_arth[arth_c0_ind], color= \"blue\", label= \"normal\", marker= \"+\")\n",
    "plt.scatter(y_rheu_arr[arth_c1_ind], han_coh_pred_arth[arth_c1_ind], color= \"red\", label= \"rheumatoid arthritis\", marker= \"+\")\n",
    "acc_line = [0, 100]\n",
    "plt.plot(acc_line, acc_line)\n",
    "plt.xlabel(\"actual age\")\n",
    "plt.ylabel(\"DNAm pred. age\")\n",
    "plt.title(\"DNAm pred. vs actual age, Hannum Random\\n\" + \"r= \" + str(stats.pearsonr(y_rheu_arr, han_coh_pred_arth)[0]), loc= \"right\")\n",
    "plt.legend()\n",
    "plt.savefig(\"han_arthritis_coh\")\n",
    "plt.show()"
   ]
  },
  {
   "cell_type": "markdown",
   "metadata": {},
   "source": [
    "let's see if a trained OLS regression model will give us good results"
   ]
  },
  {
   "cell_type": "code",
   "execution_count": null,
   "metadata": {},
   "outputs": [],
   "source": [
    "rheu_OLS = model.LinearRegression()"
   ]
  },
  {
   "cell_type": "code",
   "execution_count": null,
   "metadata": {},
   "outputs": [],
   "source": [
    "X_rheu_arr = scaler.fit_transform(X_rheu)"
   ]
  },
  {
   "cell_type": "code",
   "execution_count": null,
   "metadata": {},
   "outputs": [],
   "source": [
    "X_rheu_arr_train, X_rheu_arr_test, y_rheu_train, y_rheu_test, c0_ind_train, c0_ind_test, c1_ind_train, c1_ind_test = train_test_split(X_rheu_arr, y_rheu, arth_c0_ind, arth_c1_ind)"
   ]
  },
  {
   "cell_type": "code",
   "execution_count": null,
   "metadata": {},
   "outputs": [],
   "source": [
    "rheu_OLS.fit(X_rheu_arr_train, y_rheu_train)"
   ]
  },
  {
   "cell_type": "code",
   "execution_count": null,
   "metadata": {},
   "outputs": [],
   "source": [
    "y_rheu_OLS_pred = rheu_OLS.predict(X_rheu_arr_test)"
   ]
  },
  {
   "cell_type": "code",
   "execution_count": null,
   "metadata": {},
   "outputs": [],
   "source": [
    "y_rheu_test_arr = np.array(y_rheu_test)"
   ]
  },
  {
   "cell_type": "code",
   "execution_count": null,
   "metadata": {
    "scrolled": true
   },
   "outputs": [],
   "source": [
    "plt.scatter(y_rheu_test_arr[c0_ind_test], y_rheu_OLS_pred[c0_ind_test], color= \"blue\", label= \"normal\", marker= \"+\")\n",
    "plt.scatter(y_rheu_test_arr[c1_ind_test], y_rheu_OLS_pred[c1_ind_test], color= \"red\", label= \"rheumatoid arthritis\", marker= \"+\")\n",
    "acc_line = [0, 100]\n",
    "plt.xlim(0, 100)\n",
    "plt.ylim(0, 100)\n",
    "plt.plot(acc_line, acc_line)\n",
    "plt.xlabel(\"actual age\")\n",
    "plt.ylabel(\"DNAm pred. age\")\n",
    "plt.title(\"DNAm pred. vs actual age, OLS model\\n\" + \"r= \" + str(stats.pearsonr(y_rheu_test_arr, y_rheu_OLS_pred)[0]), loc= \"right\")\n",
    "plt.legend()\n",
    "plt.savefig(\"OLS_arthritis\")\n",
    "plt.show()"
   ]
  },
  {
   "cell_type": "code",
   "execution_count": null,
   "metadata": {},
   "outputs": [],
   "source": [
    "plt.scatter(y_rheu_test_arr[c0_ind_test], y_rheu_OLS_pred[c0_ind_test], color= \"blue\", label= \"normal\", marker= \"+\")\n",
    "# plt.scatter(y_rheu_test_arr[c1_ind_test], y_rheu_OLS_pred[c1_ind_test], color= \"red\", label= \"rheumatoid arthritis\", marker= \"+\")\n",
    "acc_line = [0, 100]\n",
    "plt.plot(acc_line, acc_line)\n",
    "plt.xlabel(\"actual age\")\n",
    "plt.ylabel(\"DNAm pred. age\")\n",
    "plt.title(\"DNAm pred. vs actual age, OLS model\\n\" + \"r= \" + str(stats.pearsonr(y_rheu_test_arr[c0_ind_test], y_rheu_OLS_pred[c0_ind_test])[0]), loc= \"right\")\n",
    "plt.legend()\n",
    "plt.savefig(\"OLS_arthritis_normal\")\n",
    "plt.show()"
   ]
  },
  {
   "cell_type": "code",
   "execution_count": null,
   "metadata": {},
   "outputs": [],
   "source": [
    "# plt.scatter(y_rheu_test_arr[c0_ind_test], y_rheu_OLS_pred[c0_ind_test], color= \"blue\", label= \"normal\", marker= \"+\")\n",
    "plt.scatter(y_rheu_test_arr[c1_ind_test], y_rheu_OLS_pred[c1_ind_test], color= \"red\", label= \"rheumatoid arthritis\", marker= \"+\")\n",
    "acc_line = [0, 100]\n",
    "plt.plot(acc_line, acc_line)\n",
    "plt.xlabel(\"actual age\")\n",
    "plt.ylabel(\"DNAm pred. age\")\n",
    "plt.title(\"DNAm pred. vs actual age, OLS model\\n\" + \"r= \" + str(stats.pearsonr(y_rheu_test_arr[c1_ind_test], y_rheu_OLS_pred[c1_ind_test])[0]), loc= \"right\")\n",
    "plt.legend()\n",
    "plt.savefig(\"OLS_arthritis_arthritis\")\n",
    "plt.show()"
   ]
  },
  {
   "cell_type": "markdown",
   "metadata": {},
   "source": [
    "let's look at a Crohn's disease dataset"
   ]
  },
  {
   "cell_type": "code",
   "execution_count": null,
   "metadata": {},
   "outputs": [],
   "source": [
    "crohns_data = [\"GSE32148\"]"
   ]
  },
  {
   "cell_type": "code",
   "execution_count": null,
   "metadata": {},
   "outputs": [],
   "source": [
    "X_crohns, y_crohns = process_data(crohns_data)"
   ]
  },
  {
   "cell_type": "code",
   "execution_count": null,
   "metadata": {},
   "outputs": [],
   "source": [
    "# some samples are missing\n",
    "X_crohns.shape"
   ]
  },
  {
   "cell_type": "code",
   "execution_count": null,
   "metadata": {},
   "outputs": [],
   "source": [
    "y_crohns[0]"
   ]
  },
  {
   "cell_type": "code",
   "execution_count": null,
   "metadata": {},
   "outputs": [],
   "source": [
    "_, crohns_stat = process_data(crohns_data, info= \"crohns\")"
   ]
  },
  {
   "cell_type": "code",
   "execution_count": null,
   "metadata": {},
   "outputs": [],
   "source": [
    "crohns_c0_ind = [\"Crohn's\" == code for code in crohns_stat]\n",
    "crohns_c1_ind = [\"normal\" == code for code in crohns_stat]\n",
    "crohns_c2_ind = [\"ulcerative\" == code for code in crohns_stat]"
   ]
  },
  {
   "cell_type": "code",
   "execution_count": null,
   "metadata": {},
   "outputs": [],
   "source": [
    "y_crohns_arr = np.array(y_crohns)"
   ]
  },
  {
   "cell_type": "code",
   "execution_count": null,
   "metadata": {},
   "outputs": [],
   "source": [
    "X_crohns_wb = X_crohns[shared_CpGs]"
   ]
  },
  {
   "cell_type": "code",
   "execution_count": null,
   "metadata": {},
   "outputs": [],
   "source": [
    "X_crohns_wb = scaler.fit_transform(X_crohns_wb)"
   ]
  },
  {
   "cell_type": "code",
   "execution_count": null,
   "metadata": {},
   "outputs": [],
   "source": [
    "wb_crohns_y_pred = wb_model.predict(X_crohns_wb)"
   ]
  },
  {
   "cell_type": "code",
   "execution_count": null,
   "metadata": {},
   "outputs": [],
   "source": [
    "plt.scatter(y_crohns_arr[crohns_c0_ind], wb_crohns_y_pred[crohns_c0_ind], color= \"blue\", label= \"crohn's\", marker= \"+\")\n",
    "plt.scatter(y_crohns_arr[crohns_c1_ind], wb_crohns_y_pred[crohns_c1_ind], color= \"red\", label= \"normal\", marker= \"+\")\n",
    "plt.scatter(y_crohns_arr[crohns_c2_ind], wb_crohns_y_pred[crohns_c2_ind], color= \"green\", label= \"ulcerative colitis\", marker= \"+\")\n",
    "acc_line = [0, 100]\n",
    "plt.xlim(0, 100)\n",
    "plt.ylim(0, 100)\n",
    "plt.plot(acc_line, acc_line)\n",
    "plt.xlabel(\"actual age\")\n",
    "plt.ylabel(\"DNAm pred. age\")\n",
    "plt.title(\"DNAm pred. vs actual age, Horvath WB\\n\" + \"r= \" + str(stats.pearsonr(y_crohns_arr, wb_crohns_y_pred)[0]), loc= \"right\")\n",
    "plt.legend()\n",
    "plt.savefig(\"wb_crohns\")\n",
    "plt.show()"
   ]
  },
  {
   "cell_type": "code",
   "execution_count": null,
   "metadata": {},
   "outputs": [],
   "source": [
    "plt.scatter(y_crohns_arr[crohns_c0_ind], wb_crohns_y_pred[crohns_c0_ind], color= \"blue\", label= \"crohn's\", marker= \"+\")\n",
    "acc_line = [0, 100]\n",
    "plt.xlim(0, 100)\n",
    "plt.ylim(0, 100)\n",
    "plt.plot(acc_line, acc_line)\n",
    "plt.xlabel(\"actual age\")\n",
    "plt.ylabel(\"DNAm pred. age\")\n",
    "plt.title(\"DNAm pred. vs actual age, Horvath WB\\n\" + \"r= \" + str(stats.pearsonr(y_crohns_arr[crohns_c0_ind], wb_crohns_y_pred[crohns_c0_ind])[0]), loc= \"right\")\n",
    "plt.legend()\n",
    "plt.savefig(\"wb_crohns_crohns\")\n",
    "plt.show()"
   ]
  },
  {
   "cell_type": "code",
   "execution_count": null,
   "metadata": {},
   "outputs": [],
   "source": [
    "plt.scatter(y_crohns_arr[crohns_c1_ind], wb_crohns_y_pred[crohns_c1_ind], color= \"red\", label= \"normal\", marker= \"+\")\n",
    "acc_line = [0, 100]\n",
    "plt.xlim(0, 100)\n",
    "plt.ylim(0, 100)\n",
    "plt.plot(acc_line, acc_line)\n",
    "plt.xlabel(\"actual age\")\n",
    "plt.ylabel(\"DNAm pred. age\")\n",
    "plt.title(\"DNAm pred. vs actual age, Horvath WB\\n\" + \"r= \" + str(stats.pearsonr(y_crohns_arr[crohns_c1_ind], wb_crohns_y_pred[crohns_c1_ind])[0]), loc= \"right\")\n",
    "plt.legend()\n",
    "plt.savefig(\"wb_crohns_normal\")\n",
    "plt.show()"
   ]
  },
  {
   "cell_type": "code",
   "execution_count": null,
   "metadata": {},
   "outputs": [],
   "source": [
    "plt.scatter(y_crohns_arr[crohns_c2_ind], wb_crohns_y_pred[crohns_c2_ind], color= \"green\", label= \"ulcerative colitis\", marker= \"+\")\n",
    "acc_line = [0, 100]\n",
    "plt.xlim(0, 100)\n",
    "plt.ylim(0, 100)\n",
    "plt.plot(acc_line, acc_line)\n",
    "plt.xlabel(\"actual age\")\n",
    "plt.ylabel(\"DNAm pred. age\")\n",
    "plt.title(\"DNAm pred. vs actual age, Horvath WB\\n\" + \"r= \" + str(stats.pearsonr(y_crohns_arr[crohns_c2_ind], wb_crohns_y_pred[crohns_c2_ind])[0]), loc= \"right\")\n",
    "plt.legend()\n",
    "plt.savefig(\"wb_crohns_ulcer_col\")\n",
    "plt.show()"
   ]
  },
  {
   "cell_type": "markdown",
   "metadata": {},
   "source": [
    "let's see how the Hannum based clock performs"
   ]
  },
  {
   "cell_type": "code",
   "execution_count": null,
   "metadata": {},
   "outputs": [],
   "source": [
    "X_crohns_hann = X_crohns[hannum_CpGs]"
   ]
  },
  {
   "cell_type": "code",
   "execution_count": null,
   "metadata": {},
   "outputs": [],
   "source": [
    "X_crohns_hann = scaler.fit_transform(X_crohns_hann, y_crohns)"
   ]
  },
  {
   "cell_type": "code",
   "execution_count": null,
   "metadata": {},
   "outputs": [],
   "source": [
    "hann_crohns_y_pred = hannum_data_model.predict(X_crohns_hann)"
   ]
  },
  {
   "cell_type": "code",
   "execution_count": null,
   "metadata": {},
   "outputs": [],
   "source": [
    "plt.scatter(y_crohns_arr[crohns_c0_ind], hann_crohns_y_pred[crohns_c0_ind], color= \"blue\", label= \"crohn's\", marker= \"+\")\n",
    "plt.scatter(y_crohns_arr[crohns_c1_ind], hann_crohns_y_pred[crohns_c1_ind], color= \"red\", label= \"normal\", marker= \"+\")\n",
    "plt.scatter(y_crohns_arr[crohns_c2_ind], hann_crohns_y_pred[crohns_c2_ind], color= \"green\", label= \"ulcerative colitis\", marker= \"+\")\n",
    "acc_line = [0, 100]\n",
    "plt.xlim(0, 100)\n",
    "plt.ylim(0, 100)\n",
    "plt.plot(acc_line, acc_line)\n",
    "plt.xlabel(\"actual age\")\n",
    "plt.ylabel(\"DNAm pred. age\")\n",
    "plt.title(\"DNAm pred. vs actual age, Hannum\\n\" + \"r= \" + str(stats.pearsonr(y_crohns_arr, hann_crohns_y_pred)[0]), loc= \"right\")\n",
    "plt.legend()\n",
    "plt.savefig(\"hannum_crohns\")\n",
    "plt.show()"
   ]
  },
  {
   "cell_type": "code",
   "execution_count": null,
   "metadata": {},
   "outputs": [],
   "source": [
    "plt.scatter(y_crohns_arr[crohns_c0_ind], hann_crohns_y_pred[crohns_c0_ind], color= \"blue\", label= \"crohn's\", marker= \"+\")\n",
    "# plt.scatter(y_crohns_arr[crohns_c1_ind], hann_crohns_y_pred[crohns_c1_ind], color= \"red\", label= \"normal\", marker= \"+\")\n",
    "# plt.scatter(y_crohns_arr[crohns_c2_ind], hann_crohns_y_pred[crohns_c2_ind], color= \"green\", label= \"ulcerative colitis\", marker= \"+\")\n",
    "acc_line = [0, 100]\n",
    "plt.xlim(0, 100)\n",
    "plt.ylim(0, 100)\n",
    "plt.plot(acc_line, acc_line)\n",
    "plt.xlabel(\"actual age\")\n",
    "plt.ylabel(\"DNAm pred. age\")\n",
    "plt.title(\"DNAm pred. vs actual age, Hannum\\n\" + \"r= \" + str(stats.pearsonr(y_crohns_arr[crohns_c0_ind], hann_crohns_y_pred[crohns_c0_ind])[0]), loc= \"right\")\n",
    "plt.legend()\n",
    "plt.savefig(\"hannum_crohns_crohns\")\n",
    "plt.show()"
   ]
  },
  {
   "cell_type": "code",
   "execution_count": null,
   "metadata": {},
   "outputs": [],
   "source": [
    "plt.scatter(y_crohns_arr[crohns_c1_ind], hann_crohns_y_pred[crohns_c1_ind], color= \"red\", label= \"normal\", marker= \"+\")\n",
    "acc_line = [0, 100]\n",
    "plt.xlim(0, 100)\n",
    "plt.ylim(0, 100)\n",
    "plt.plot(acc_line, acc_line)\n",
    "plt.xlabel(\"actual age\")\n",
    "plt.ylabel(\"DNAm pred. age\")\n",
    "plt.title(\"DNAm pred. vs actual age, Hannum\\n\" + \"r= \" + str(stats.pearsonr(y_crohns_arr[crohns_c1_ind], hann_crohns_y_pred[crohns_c1_ind])[0]), loc= \"right\")\n",
    "plt.legend()\n",
    "plt.savefig(\"hannum_crohns_normal\")\n",
    "plt.show()"
   ]
  },
  {
   "cell_type": "code",
   "execution_count": null,
   "metadata": {},
   "outputs": [],
   "source": [
    "plt.scatter(y_crohns_arr[crohns_c2_ind], hann_crohns_y_pred[crohns_c2_ind], color= \"green\", label= \"ulcerative colitis\", marker= \"+\")\n",
    "acc_line = [0, 100]\n",
    "plt.xlim(0, 100)\n",
    "plt.ylim(0, 100)\n",
    "plt.plot(acc_line, acc_line)\n",
    "plt.xlabel(\"actual age\")\n",
    "plt.ylabel(\"DNAm pred. age\")\n",
    "plt.title(\"DNAm pred. vs actual age, Hannum\\n\" + \"r= \" + str(stats.pearsonr(y_crohns_arr[crohns_c2_ind], hann_crohns_y_pred[crohns_c2_ind])[0]), loc= \"right\")\n",
    "plt.legend()\n",
    "plt.savefig(\"hannum_crohns_ulcer_col\")\n",
    "plt.show()"
   ]
  },
  {
   "cell_type": "markdown",
   "metadata": {},
   "source": [
    "let's look at a down syndrome dataset"
   ]
  },
  {
   "cell_type": "code",
   "execution_count": null,
   "metadata": {},
   "outputs": [],
   "source": [
    "down_syn_data = [\"GSE52588\"]"
   ]
  },
  {
   "cell_type": "code",
   "execution_count": null,
   "metadata": {},
   "outputs": [],
   "source": [
    "X_ds, y_ds = process_data(down_syn_data)"
   ]
  },
  {
   "cell_type": "code",
   "execution_count": null,
   "metadata": {},
   "outputs": [],
   "source": [
    "y_ds = np.array(y_ds)"
   ]
  },
  {
   "cell_type": "code",
   "execution_count": null,
   "metadata": {},
   "outputs": [],
   "source": [
    "_, ds_status = process_data(down_syn_data, info= \"down syndrome\")"
   ]
  },
  {
   "cell_type": "code",
   "execution_count": null,
   "metadata": {},
   "outputs": [],
   "source": [
    "ds_c0_ind = [\"Down\" == code for code in ds_status]\n",
    "ds_c1_ind = [\"healthy\" == code for code in ds_status]"
   ]
  },
  {
   "cell_type": "code",
   "execution_count": null,
   "metadata": {},
   "outputs": [],
   "source": [
    "X_ds_han = X_ds[hannum_CpGs]"
   ]
  },
  {
   "cell_type": "code",
   "execution_count": null,
   "metadata": {},
   "outputs": [],
   "source": [
    "X_ds_han = scaler.fit_transform(X_ds_han)"
   ]
  },
  {
   "cell_type": "code",
   "execution_count": null,
   "metadata": {},
   "outputs": [],
   "source": [
    "y_ds_han = hannum_data_model.predict(X_ds_han)"
   ]
  },
  {
   "cell_type": "code",
   "execution_count": null,
   "metadata": {},
   "outputs": [],
   "source": [
    "plt.scatter(y_ds[ds_c1_ind], y_ds_han[ds_c1_ind], color= \"blue\", label= \"normal\", marker= \"+\")\n",
    "plt.scatter(y_ds[ds_c0_ind], y_ds_han[ds_c0_ind], color= \"red\", label= \"down syndrome\", marker= \"+\")\n",
    "acc_line = [0, 100]\n",
    "plt.xlim(0, 100)\n",
    "plt.ylim(0, 100)\n",
    "plt.plot(acc_line, acc_line)\n",
    "plt.xlabel(\"actual age\")\n",
    "plt.ylabel(\"DNAm pred. age\")\n",
    "plt.title(\"DNAm pred. vs actual age, Hannum\\n\" + \"r= \" + str(stats.pearsonr(y_ds, y_ds_han)[0]), loc= \"right\")\n",
    "plt.legend()\n",
    "plt.savefig(\"han_ds\")\n",
    "plt.show()"
   ]
  },
  {
   "cell_type": "code",
   "execution_count": null,
   "metadata": {},
   "outputs": [],
   "source": [
    "y_ds_han_coh = hannum_data_model_coh.predict(X_ds_han)"
   ]
  },
  {
   "cell_type": "code",
   "execution_count": null,
   "metadata": {},
   "outputs": [],
   "source": [
    "plt.scatter(y_ds[ds_c1_ind], y_ds_han[ds_c1_ind], color= \"blue\", label= \"normal\", marker= \"+\")\n",
    "plt.scatter(y_ds[ds_c0_ind], y_ds_han[ds_c0_ind], color= \"red\", label= \"down syndrome\", marker= \"+\")\n",
    "acc_line = [0, 100]\n",
    "plt.xlim(0, 100)\n",
    "plt.ylim(0, 100)\n",
    "plt.plot(acc_line, acc_line)\n",
    "plt.xlabel(\"actual age\")\n",
    "plt.ylabel(\"DNAm pred. age\")\n",
    "plt.title(\"DNAm pred. vs actual age, Hannum Random\\n\" + \"r= \" + str(stats.pearsonr(y_ds, y_ds_han_coh)[0]), loc= \"right\")\n",
    "plt.legend()\n",
    "plt.savefig(\"han_ds_coh\")\n",
    "plt.show()"
   ]
  },
  {
   "cell_type": "code",
   "execution_count": null,
   "metadata": {},
   "outputs": [],
   "source": [
    "X_ds_wb = X_ds[shared_CpGs]"
   ]
  },
  {
   "cell_type": "code",
   "execution_count": null,
   "metadata": {},
   "outputs": [],
   "source": [
    "X_ds_wb = scaler.fit_transform(X_ds_wb)"
   ]
  },
  {
   "cell_type": "code",
   "execution_count": null,
   "metadata": {},
   "outputs": [],
   "source": [
    "wb_ds_y_pred = wb_model.predict(X_ds_wb)"
   ]
  },
  {
   "cell_type": "code",
   "execution_count": null,
   "metadata": {},
   "outputs": [],
   "source": [
    "plt.scatter(y_ds[ds_c1_ind], wb_ds_y_pred[ds_c1_ind], color= \"blue\", label= \"normal\", marker= \"+\")\n",
    "plt.scatter(y_ds[ds_c0_ind], wb_ds_y_pred[ds_c0_ind], color= \"red\", label= \"down syndrome\", marker= \"+\")\n",
    "acc_line = [0, 100]\n",
    "plt.xlim(0, 100)\n",
    "plt.ylim(0, 100)\n",
    "plt.plot(acc_line, acc_line)\n",
    "plt.xlabel(\"actual age\")\n",
    "plt.ylabel(\"DNAm pred. age\")\n",
    "plt.title(\"DNAm pred. vs actual age, Horvath WB\\n\" + \"r= \" + str(stats.pearsonr(y_ds, wb_ds_y_pred)[0]), loc= \"right\")\n",
    "plt.legend()\n",
    "plt.savefig(\"wb_ds\")\n",
    "plt.show()"
   ]
  },
  {
   "cell_type": "code",
   "execution_count": null,
   "metadata": {},
   "outputs": [],
   "source": [
    "wb_ds_y_pred_coh = wb_data_model_coh.predict(X_ds_wb)"
   ]
  },
  {
   "cell_type": "code",
   "execution_count": null,
   "metadata": {},
   "outputs": [],
   "source": [
    "plt.scatter(y_ds[ds_c1_ind], wb_ds_y_pred_coh[ds_c1_ind], color= \"blue\", label= \"normal\", marker= \"+\")\n",
    "plt.scatter(y_ds[ds_c0_ind], wb_ds_y_pred_coh[ds_c0_ind], color= \"red\", label= \"down syndrome\", marker= \"+\")\n",
    "acc_line = [0, 100]\n",
    "plt.xlim(0, 100)\n",
    "plt.ylim(0, 100)\n",
    "plt.plot(acc_line, acc_line)\n",
    "plt.xlabel(\"actual age\")\n",
    "plt.ylabel(\"DNAm pred. age\")\n",
    "plt.title(\"DNAm pred. vs actual age, Horvath WB Random\\n\" + \"r= \" + str(stats.pearsonr(y_ds, wb_ds_y_pred_coh)[0]), loc= \"right\")\n",
    "plt.legend()\n",
    "plt.savefig(\"wb_ds_coh\")\n",
    "plt.show()"
   ]
  },
  {
   "cell_type": "markdown",
   "metadata": {},
   "source": [
    "let's see if a trained OLS regression model will give us good results"
   ]
  },
  {
   "cell_type": "code",
   "execution_count": null,
   "metadata": {},
   "outputs": [],
   "source": [
    "ds_OLS = model.LinearRegression()"
   ]
  },
  {
   "cell_type": "code",
   "execution_count": null,
   "metadata": {},
   "outputs": [],
   "source": [
    "X_ds = scaler.fit_transform(X_ds)"
   ]
  },
  {
   "cell_type": "code",
   "execution_count": null,
   "metadata": {},
   "outputs": [],
   "source": [
    "X_ds_train, X_ds_test, y_ds_train, y_ds_test, ds_c0_ind_train, ds_c0_ind_test, ds_c1_ind_train, ds_c1_ind_test = \\\n",
    "train_test_split(X_ds, y_ds, ds_c0_ind, ds_c1_ind, test_size= 20)"
   ]
  },
  {
   "cell_type": "code",
   "execution_count": null,
   "metadata": {},
   "outputs": [],
   "source": [
    "ds_OLS.fit(X_ds_train, y_ds_train)"
   ]
  },
  {
   "cell_type": "code",
   "execution_count": null,
   "metadata": {},
   "outputs": [],
   "source": [
    "y_ds_OLS_pred = ds_OLS.predict(X_ds_test)"
   ]
  },
  {
   "cell_type": "code",
   "execution_count": null,
   "metadata": {
    "scrolled": true
   },
   "outputs": [],
   "source": [
    "plt.scatter(y_ds_test[ds_c1_ind_test], y_ds_OLS_pred[ds_c1_ind_test], label= \"normal\", marker= \"+\", color= \"blue\")\n",
    "plt.scatter(y_ds_test[ds_c0_ind_test], y_ds_OLS_pred[ds_c0_ind_test], label= \"down syndrome\", marker= \"+\", color= \"red\")\n",
    "acc_line = [0, 100]\n",
    "plt.xlim(0, 100)\n",
    "plt.ylim(0, 100)\n",
    "plt.plot(acc_line, acc_line)\n",
    "plt.xlabel(\"actual age\")\n",
    "plt.ylabel(\"DNAm pred. age\")\n",
    "ds_OLS_r = stats.pearsonr(y_ds_test, y_ds_OLS_pred)[0]\n",
    "plt.title(\"DNAm pred. vs actual age, OLS model\\n\" + \"r= \" + str(ds_OLS_r), loc= \"right\")\n",
    "plt.legend()\n",
    "plt.savefig(\"ds_OLS\")\n",
    "plt.show()"
   ]
  },
  {
   "cell_type": "markdown",
   "metadata": {},
   "source": [
    "let's test random models on HIV+ male set"
   ]
  },
  {
   "cell_type": "code",
   "execution_count": null,
   "metadata": {},
   "outputs": [],
   "source": [
    "y_pred_HIV_han_coh = hannum_data_model_coh.predict(X_HIV_hann)"
   ]
  },
  {
   "cell_type": "code",
   "execution_count": null,
   "metadata": {},
   "outputs": [],
   "source": [
    "plt.scatter(y_HIV_arr, y_pred_HIV_han_coh, label= \"HIV+ male\", marker= \"+\")\n",
    "plt.plot(acc_line_v, acc_line_v)\n",
    "plt.xlim(0, 100)\n",
    "plt.ylim(0, 100)\n",
    "plt.xlabel(\"actual age\")\n",
    "plt.ylabel(\"DNAm pred. age\")\n",
    "plt.title(\"DNAm pred. vs actual age, Hannum Random\\n\" + \"r= \" + str(stats.pearsonr(y_HIV_arr, y_pred_HIV_han_coh)[0]), loc= \"right\")\n",
    "plt.legend()\n",
    "plt.savefig(\"hiv_han_coh\", bbox_inches= \"tight\")\n",
    "plt.show()"
   ]
  },
  {
   "cell_type": "code",
   "execution_count": null,
   "metadata": {},
   "outputs": [],
   "source": [
    "y_pred_HIV_wb_coh = wb_data_model_coh.predict(X_HIV)"
   ]
  },
  {
   "cell_type": "code",
   "execution_count": null,
   "metadata": {},
   "outputs": [],
   "source": [
    "plt.scatter(y_HIV_arr, y_pred_HIV_wb_coh, label= \"HIV+ male\", marker= \"+\")\n",
    "plt.plot(acc_line_v, acc_line_v)\n",
    "plt.xlim(0, 100)\n",
    "plt.ylim(0, 100)\n",
    "plt.xlabel(\"actual age\")\n",
    "plt.ylabel(\"DNAm pred. age\")\n",
    "plt.title(\"DNAm pred. vs actual age, Horvath WB Random\\n\" + \"r= \" + str(stats.pearsonr(y_HIV_arr, y_pred_HIV_wb_coh)[0]), loc= \"right\")\n",
    "plt.legend()\n",
    "plt.savefig(\"wb_coh_hiv\", bbox_inches= \"tight\")\n",
    "plt.show()"
   ]
  },
  {
   "cell_type": "markdown",
   "metadata": {},
   "source": [
    "let's test random model on BRCA1 dataset"
   ]
  },
  {
   "cell_type": "code",
   "execution_count": null,
   "metadata": {},
   "outputs": [],
   "source": [
    "wb_y_brca1_coh = wb_data_model_coh.predict(X_brca1)"
   ]
  },
  {
   "cell_type": "code",
   "execution_count": null,
   "metadata": {},
   "outputs": [],
   "source": [
    "plt.scatter(y_brca1_arr[brca_c0_ind], wb_y_brca1_coh[brca_c0_ind], color= \"blue\", label= \"healthy brca1 wt\", marker= \"+\")\n",
    "plt.scatter(y_brca1_arr[brca_c1_ind], wb_y_brca1_coh[brca_c1_ind], color= \"red\", label= \"healthy brca1 mt\", marker= \"+\")\n",
    "plt.scatter(y_brca1_arr[brca_c2_ind], wb_y_brca1_coh[brca_c2_ind], color= \"green\", label= \"breast cancer brca1 mt\", marker= \"+\")\n",
    "plt.xlim(0, 100)\n",
    "plt.ylim(0, 100)\n",
    "acc_line_brca1 = [0, 100]\n",
    "plt.plot(acc_line_brca1, acc_line_brca1)\n",
    "plt.xlabel(\"actual age\")\n",
    "plt.ylabel(\"DNAm pred. age\")\n",
    "plt.title(\"DNAm pred. vs actual age, Horvath WB Random\\n\" + \"r= \" + str(stats.pearsonr(y_brca1_arr, wb_y_brca1_coh)[0]), loc= \"right\")\n",
    "plt.legend()\n",
    "plt.savefig(\"brca1_age_wb_coh\")\n",
    "plt.show()"
   ]
  },
  {
   "cell_type": "code",
   "execution_count": null,
   "metadata": {},
   "outputs": [],
   "source": [
    "plt.scatter(y_brca1_arr[brca_c0_ind], wb_y_brca1_coh[brca_c0_ind], color= \"blue\", label= \"healthy brca1 wt\", marker= \"+\")\n",
    "plt.xlim(0, 100)\n",
    "plt.ylim(0, 100)\n",
    "acc_line_v = [0, 100]\n",
    "plt.plot(acc_line_v, acc_line_v)\n",
    "plt.xlabel(\"actual age\")\n",
    "plt.ylabel(\"DNAm pred. age\")\n",
    "plt.title(\"DNAm pred. vs actual age, Horvath WB Random\\n\" + \"r= \" + str(stats.pearsonr(y_brca1_arr[brca_c0_ind], wb_y_brca1_coh[brca_c0_ind])[0]), loc= \"right\")\n",
    "plt.legend()\n",
    "plt.savefig(\"brca1_age_wb_h_brca_wt_coh\")\n",
    "plt.show()"
   ]
  },
  {
   "cell_type": "code",
   "execution_count": null,
   "metadata": {},
   "outputs": [],
   "source": [
    "plt.scatter(y_brca1_arr[brca_c1_ind], wb_y_brca1_coh[brca_c1_ind], color= \"red\", label= \"healthy brca1 mt\", marker= \"+\")\n",
    "plt.plot(acc_line_brca1, acc_line_brca1)\n",
    "plt.xlim(0, 100)\n",
    "plt.ylim(0, 100)\n",
    "plt.xlabel(\"actual age\")\n",
    "plt.ylabel(\"DNAm pred. age\")\n",
    "plt.title(\"DNAm pred. vs actual age, Horvath WB Random\\n\" + \"r= \" + str(stats.pearsonr(y_brca1_arr[brca_c1_ind], wb_y_brca1_coh[brca_c1_ind])[0]), loc= \"right\")\n",
    "plt.legend()\n",
    "plt.savefig(\"brca1_age_wb_h_brca1_mt_coh\")\n",
    "plt.show()"
   ]
  },
  {
   "cell_type": "code",
   "execution_count": null,
   "metadata": {},
   "outputs": [],
   "source": [
    "plt.scatter(y_brca1_arr[brca_c2_ind], wb_y_brca1_coh[brca_c2_ind], color= \"green\", label= \"breast cancer brca1 mt\", marker= \"+\")\n",
    "plt.plot(acc_line_brca1, acc_line_brca1)\n",
    "plt.xlim(0, 100)\n",
    "plt.ylim(0, 100)\n",
    "plt.xlabel(\"actual age\")\n",
    "plt.ylabel(\"DNAm pred. age\")\n",
    "plt.title(\"DNAm pred. vs actual age, Horvath WB Random\\n\" + \"r= \" + str(stats.pearsonr(y_brca1_arr[brca_c2_ind], wb_y_brca1_coh[brca_c2_ind])[0]), loc= \"right\")\n",
    "plt.legend()\n",
    "plt.savefig(\"brca1_age_wb_canc_brca1_mt_coh\")\n",
    "plt.show()"
   ]
  },
  {
   "cell_type": "markdown",
   "metadata": {},
   "source": [
    "using the human methylome to predict stock market values during the crash"
   ]
  },
  {
   "cell_type": "code",
   "execution_count": null,
   "metadata": {},
   "outputs": [],
   "source": [
    "stock_data = pd.read_csv(\"dow-jones-1929-bear-market.csv\")\n",
    "stock_data.head(5)"
   ]
  },
  {
   "cell_type": "code",
   "execution_count": null,
   "metadata": {},
   "outputs": [],
   "source": [
    "# converting date strings to date objects\n",
    "for i in range(stock_data[\"date\"].shape[0]):\n",
    "    date_match = re.match(r\"(\\d+)/(\\d+)/(\\d+)\", stock_data[\"date\"].iloc[i])\n",
    "    year = int(date_match.group(3))\n",
    "    month = int(date_match.group(1))\n",
    "    day = int(date_match.group(2))\n",
    "    date_obj = date(year, month, day)\n",
    "    stock_data[\"date\"].iloc[i] = date_obj"
   ]
  },
  {
   "cell_type": "code",
   "execution_count": null,
   "metadata": {},
   "outputs": [],
   "source": [
    "stock_data.head(3)"
   ]
  },
  {
   "cell_type": "code",
   "execution_count": null,
   "metadata": {},
   "outputs": [],
   "source": [
    "dates = np.array(stock_data[\"date\"])\n",
    "values = np.array(stock_data[\" value\"])"
   ]
  },
  {
   "cell_type": "code",
   "execution_count": null,
   "metadata": {},
   "outputs": [],
   "source": [
    "plt.plot(dates, values)\n",
    "plt.xlabel(\"date\")\n",
    "plt.ylabel(\"value\")\n",
    "plt.xticks([date(1929, 9, 3), date(1930, 9, 3), date(1931, 9, 3), date(1932, 7, 3)])\n",
    "plt.title(\"stock market value\")\n",
    "plt.savefig(\"stock_market_value\")\n",
    "plt.show()"
   ]
  },
  {
   "cell_type": "code",
   "execution_count": null,
   "metadata": {},
   "outputs": [],
   "source": [
    "# map ages to indices in dates\n",
    "min_age_han = min(hannum_y)\n",
    "max_age_han = max(hannum_y)\n",
    "age_diff_han = max_age_han - min_age_han\n",
    "\n",
    "# we want min_age_han to map to 0 and max_age_han\n",
    "# to map to len(dates) - 1\n",
    "step_han = (len(dates) - 1) / age_diff_han\n",
    "\n",
    "date_ind = []    # in the same order as hannum_y\n",
    "for age in hannum_y:\n",
    "    ind = int((age - min_age_han) * step_han)\n",
    "    date_ind.append(ind)\n",
    "\n",
    "date_ind = np.array(date_ind)"
   ]
  },
  {
   "cell_type": "code",
   "execution_count": null,
   "metadata": {},
   "outputs": [],
   "source": [
    "age_values = []    # in same order as hannum_y\n",
    "for ind in date_ind:\n",
    "    age_values.append(values[ind])"
   ]
  },
  {
   "cell_type": "code",
   "execution_count": null,
   "metadata": {},
   "outputs": [],
   "source": [
    "han_X_train_stock, han_X_test_stock, han_y_train_stock, han_y_test_stock = train_test_split(hannum_X,\n",
    "                                                                                            age_values,\n",
    "                                                                                            test_size= 0.20)"
   ]
  },
  {
   "cell_type": "code",
   "execution_count": null,
   "metadata": {},
   "outputs": [],
   "source": [
    "han_stock_model = model.ElasticNet(alpha= 0.1, l1_ratio= 0.95)"
   ]
  },
  {
   "cell_type": "code",
   "execution_count": null,
   "metadata": {},
   "outputs": [],
   "source": [
    "han_stock_model.fit(han_X_train_stock, han_y_train_stock)"
   ]
  },
  {
   "cell_type": "code",
   "execution_count": null,
   "metadata": {},
   "outputs": [],
   "source": [
    "han_stock_pred = han_stock_model.predict(han_X_test_stock)"
   ]
  },
  {
   "cell_type": "code",
   "execution_count": null,
   "metadata": {},
   "outputs": [],
   "source": [
    "plt.scatter(han_y_test_stock, han_stock_pred, marker= \"+\", label= \"stock value\")\n",
    "acc_line = [0, 400]\n",
    "plt.plot(acc_line, acc_line)\n",
    "plt.xlim(0, 400)\n",
    "plt.ylim(0, 400)\n",
    "plt.xlabel(\"actual stock value\")\n",
    "plt.ylabel(\"DNAm pred. stock value\")\n",
    "r_han_stock = stats.pearsonr(han_y_test_stock, han_stock_pred)[0]\n",
    "plt.title(\"DNAm pred. vs actual stock value, Hannum Stocks\\n\" + \"r= \" + str(r_han_stock), loc= \"right\")\n",
    "plt.legend()\n",
    "plt.savefig(\"han_stock\")\n",
    "plt.show()"
   ]
  },
  {
   "cell_type": "markdown",
   "metadata": {},
   "source": [
    "let's train a model using random stock values in the middle"
   ]
  },
  {
   "cell_type": "code",
   "execution_count": null,
   "metadata": {},
   "outputs": [],
   "source": [
    "han_y_stock_rand = np.array(age_values.copy())"
   ]
  },
  {
   "cell_type": "code",
   "execution_count": null,
   "metadata": {},
   "outputs": [],
   "source": [
    "rand_stock_ind_han = []\n",
    "norm_stock_ind_han = []\n",
    "for i in range(len(han_y_stock_rand)):\n",
    "    stock_val = han_y_stock_rand[i]\n",
    "    if stock_val >= 100 and stock_val < 250:\n",
    "        han_y_stock_rand[i] = np.random.randint(90, 260)\n",
    "        rand_stock_ind_han.append(True)\n",
    "        norm_stock_ind_han.append(False)\n",
    "    else:\n",
    "        rand_stock_ind_han.append(False)\n",
    "        norm_stock_ind_han.append(True)"
   ]
  },
  {
   "cell_type": "code",
   "execution_count": null,
   "metadata": {},
   "outputs": [],
   "source": [
    "han_X_train_stock_rand, han_X_test_stock_rand, han_y_train_stock_rand, han_y_test_stock_rand, \\\n",
    "rand_stock_ind_han_train, rand_stock_ind_han_test, norm_stock_ind_han_train, norm_stock_ind_han_test = \\\n",
    "train_test_split(hannum_X, age_values, rand_stock_ind_han, norm_stock_ind_han, test_size= 0.20)"
   ]
  },
  {
   "cell_type": "code",
   "execution_count": null,
   "metadata": {},
   "outputs": [],
   "source": [
    "rand_stock_han_model = model.ElasticNet(alpha= 0.1, l1_ratio= 0.95)"
   ]
  },
  {
   "cell_type": "code",
   "execution_count": null,
   "metadata": {},
   "outputs": [],
   "source": [
    "rand_stock_han_model.fit(han_X_train_stock_rand, han_y_train_stock_rand)"
   ]
  },
  {
   "cell_type": "code",
   "execution_count": null,
   "metadata": {},
   "outputs": [],
   "source": [
    "rand_stock_pred_han = np.array(rand_stock_han_model.predict(han_X_test_stock_rand))"
   ]
  },
  {
   "cell_type": "code",
   "execution_count": null,
   "metadata": {
    "scrolled": true
   },
   "outputs": [],
   "source": [
    "plt.scatter(np.array(han_y_test_stock_rand)[norm_stock_ind_han_test], rand_stock_pred_han[norm_stock_ind_han_test], label= \"normal stock value\", marker= \"+\")\n",
    "plt.scatter(np.array(han_y_test_stock_rand)[rand_stock_ind_han_test], rand_stock_pred_han[rand_stock_ind_han_test], label= \"random stock value\", marker= \"+\")\n",
    "plt.xlim(0, 400)\n",
    "plt.ylim(0, 400)\n",
    "acc_line = [0, 400]\n",
    "plt.plot(acc_line, acc_line)\n",
    "plt.xlabel(\"actual stock value\")\n",
    "plt.ylabel(\"DNAm pred. stock value\")\n",
    "han_stock_rand_r = stats.pearsonr(han_y_test_stock_rand, rand_stock_pred_han)[0]\n",
    "plt.title(\"DNAm pred. vs actual stock value, Hannum Stocks Random\\n\" + \"r= \" + str(han_stock_rand_r), loc= \"right\")\n",
    "plt.legend()\n",
    "plt.savefig(\"han_stocks_rand\")\n",
    "plt.show()"
   ]
  },
  {
   "cell_type": "markdown",
   "metadata": {},
   "source": [
    "now let's do with horvath"
   ]
  },
  {
   "cell_type": "code",
   "execution_count": null,
   "metadata": {},
   "outputs": [],
   "source": [
    "# map ages to indices in dates\n",
    "min_age_wb = min(y_wb)\n",
    "max_age_wb = max(y_wb)\n",
    "age_diff_wb = max_age_wb - min_age_wb\n",
    "\n",
    "# we want min_age_wb to map to 0 and max_age_wb\n",
    "# to map to len(dates) - 1\n",
    "step_wb = (len(dates) - 1) / age_diff_wb\n",
    "\n",
    "date_ind_wb = []    # in the same order as hannum_y\n",
    "for age in y_wb:\n",
    "    ind = int((age - min_age_wb) * step_wb)\n",
    "    date_ind_wb.append(ind)\n",
    "\n",
    "date_ind_wb = np.array(date_ind_wb)"
   ]
  },
  {
   "cell_type": "code",
   "execution_count": null,
   "metadata": {},
   "outputs": [],
   "source": [
    "age_values_wb = []    # in same order as hannum_y\n",
    "for ind in date_ind_wb:\n",
    "    age_values_wb.append(values[ind])"
   ]
  },
  {
   "cell_type": "code",
   "execution_count": null,
   "metadata": {},
   "outputs": [],
   "source": [
    "wb_X_train_stock, wb_X_test_stock, wb_y_train_stock, wb_y_test_stock = train_test_split(X_wb,\n",
    "                                                                                        age_values_wb,\n",
    "                                                                                        test_size= 0.20)"
   ]
  },
  {
   "cell_type": "code",
   "execution_count": null,
   "metadata": {},
   "outputs": [],
   "source": [
    "wb_stock_model = model.ElasticNet(alpha= 0.02, l1_ratio= 0.1)"
   ]
  },
  {
   "cell_type": "code",
   "execution_count": null,
   "metadata": {},
   "outputs": [],
   "source": [
    "wb_stock_model.fit(wb_X_train_stock, wb_y_train_stock)"
   ]
  },
  {
   "cell_type": "code",
   "execution_count": null,
   "metadata": {},
   "outputs": [],
   "source": [
    "wb_stock_pred = wb_stock_model.predict(wb_X_test_stock)"
   ]
  },
  {
   "cell_type": "code",
   "execution_count": null,
   "metadata": {},
   "outputs": [],
   "source": [
    "plt.scatter(wb_y_test_stock, wb_stock_pred, marker= \"+\", label= \"stock value\")\n",
    "acc_line = [0, 400]\n",
    "plt.plot(acc_line, acc_line)\n",
    "plt.xlim(0, 400)\n",
    "plt.ylim(0, 400)\n",
    "plt.xlabel(\"actual stock value\")\n",
    "plt.ylabel(\"DNAm pred. stock value\")\n",
    "r_wb_stock = stats.pearsonr(wb_y_test_stock, wb_stock_pred)[0]\n",
    "plt.title(\"DNAm pred. vs actual stock value, Horvath WB Stocks\\n\" + \"r= \" + str(r_wb_stock), loc= \"right\")\n",
    "plt.legend()\n",
    "plt.savefig(\"wb_stock\")\n",
    "plt.show()"
   ]
  },
  {
   "cell_type": "markdown",
   "metadata": {},
   "source": [
    "let's train a model using random stock values in the middle"
   ]
  },
  {
   "cell_type": "code",
   "execution_count": null,
   "metadata": {},
   "outputs": [],
   "source": [
    "wb_y_stock_rand = np.array(age_values_wb.copy())"
   ]
  },
  {
   "cell_type": "code",
   "execution_count": null,
   "metadata": {},
   "outputs": [],
   "source": [
    "rand_stock_ind_wb = []\n",
    "norm_stock_ind_wb = []\n",
    "for i in range(len(wb_y_stock_rand)):\n",
    "    stock_val = wb_y_stock_rand[i]\n",
    "    if stock_val >= 95 and stock_val < 275:\n",
    "        wb_y_stock_rand[i] = np.random.randint(95, 275)\n",
    "        rand_stock_ind_wb.append(True)\n",
    "        norm_stock_ind_wb.append(False)\n",
    "    else:\n",
    "        rand_stock_ind_wb.append(False)\n",
    "        norm_stock_ind_wb.append(True)"
   ]
  },
  {
   "cell_type": "code",
   "execution_count": null,
   "metadata": {},
   "outputs": [],
   "source": [
    "wb_X_train_stock_rand, wb_X_test_stock_rand, wb_y_train_stock_rand, wb_y_test_stock_rand, \\\n",
    "rand_stock_ind_wb_train, rand_stock_ind_wb_test, norm_stock_ind_wb_train, norm_stock_ind_wb_test = \\\n",
    "train_test_split(X_wb, age_values_wb, rand_stock_ind_wb, norm_stock_ind_wb, test_size= 0.20)"
   ]
  },
  {
   "cell_type": "code",
   "execution_count": null,
   "metadata": {},
   "outputs": [],
   "source": [
    "rand_stock_wb_model = model.ElasticNet(alpha= 0.02, l1_ratio= 0.1)"
   ]
  },
  {
   "cell_type": "code",
   "execution_count": null,
   "metadata": {},
   "outputs": [],
   "source": [
    "rand_stock_wb_model.fit(wb_X_train_stock_rand, wb_y_train_stock_rand)"
   ]
  },
  {
   "cell_type": "code",
   "execution_count": null,
   "metadata": {},
   "outputs": [],
   "source": [
    "rand_stock_pred_wb = np.array(rand_stock_wb_model.predict(wb_X_test_stock_rand))"
   ]
  },
  {
   "cell_type": "code",
   "execution_count": null,
   "metadata": {},
   "outputs": [],
   "source": [
    "plt.scatter(np.array(wb_y_test_stock_rand)[norm_stock_ind_wb_test], rand_stock_pred_wb[norm_stock_ind_wb_test], label= \"normal stock value\", marker= \"+\")\n",
    "plt.scatter(np.array(wb_y_test_stock_rand)[rand_stock_ind_wb_test], rand_stock_pred_wb[rand_stock_ind_wb_test], label= \"random stock value\", marker= \"+\")\n",
    "plt.xlim(0, 400)\n",
    "plt.ylim(0, 400)\n",
    "acc_line = [0, 400]\n",
    "plt.plot(acc_line, acc_line)\n",
    "plt.xlabel(\"actual stock value\")\n",
    "plt.ylabel(\"DNAm pred. stock value\")\n",
    "wb_stock_rand_r = stats.pearsonr(wb_y_test_stock_rand, rand_stock_pred_wb)[0]\n",
    "plt.title(\"DNAm pred. vs actual stock value, Horvath WB Stocks Random\\n\" + \"r= \" + str(wb_stock_rand_r), loc= \"right\")\n",
    "plt.legend()\n",
    "plt.savefig(\"wb_stocks_rand\")\n",
    "plt.show()"
   ]
  }
 ],
 "metadata": {
  "kernelspec": {
   "display_name": "Python 3",
   "language": "python",
   "name": "python3"
  },
  "language_info": {
   "codemirror_mode": {
    "name": "ipython",
    "version": 3
   },
   "file_extension": ".py",
   "mimetype": "text/x-python",
   "name": "python",
   "nbconvert_exporter": "python",
   "pygments_lexer": "ipython3",
   "version": "3.8.5"
  }
 },
 "nbformat": 4,
 "nbformat_minor": 4
}
